{
  "nbformat": 4,
  "nbformat_minor": 0,
  "metadata": {
    "colab": {
      "name": "Build a Gender Classifier in Python .ipynb",
      "provenance": []
    },
    "kernelspec": {
      "name": "python3",
      "display_name": "Python 3"
    }
  },
  "cells": [
    {
      "cell_type": "code",
      "metadata": {
        "id": "IfLdkuFQ4FE5"
      },
      "source": [
        "from sklearn import tree"
      ],
      "execution_count": 1,
      "outputs": []
    },
    {
      "cell_type": "markdown",
      "metadata": {
        "id": "NnVgS09u4S7-"
      },
      "source": [
        "#[height,weight,shoe size]"
      ]
    },
    {
      "cell_type": "code",
      "metadata": {
        "id": "Lqcw4N9l4Th3"
      },
      "source": [
        "x=[[190,78,6],[89,67,4],[75,45,3],[76,45,1],[76,45,3],[78,56,4]]"
      ],
      "execution_count": 2,
      "outputs": []
    },
    {
      "cell_type": "code",
      "metadata": {
        "id": "0erBZPla4n4M"
      },
      "source": [
        "y=['male','female','female','female','male','female']"
      ],
      "execution_count": 3,
      "outputs": []
    },
    {
      "cell_type": "markdown",
      "metadata": {
        "id": "lSmbxJKq5sDf"
      },
      "source": [
        "This classifier will decide whether its male or female-----DecisionTreeClassifier"
      ]
    },
    {
      "cell_type": "code",
      "metadata": {
        "id": "vrTUfFUD4-Bn"
      },
      "source": [
        "clf=tree.DecisionTreeClassifier()"
      ],
      "execution_count": 4,
      "outputs": []
    },
    {
      "cell_type": "code",
      "metadata": {
        "id": "GylYi3Wm5CUT"
      },
      "source": [
        "clf=clf.fit(x,y)"
      ],
      "execution_count": 6,
      "outputs": []
    },
    {
      "cell_type": "code",
      "metadata": {
        "id": "5nZScbDh5MSy"
      },
      "source": [
        "prediction=clf.predict([[75,56,6]])\n"
      ],
      "execution_count": 12,
      "outputs": []
    },
    {
      "cell_type": "code",
      "metadata": {
        "id": "7zrDvcS55Ylk",
        "outputId": "e8a10db0-cd0f-48cf-f9a3-52b584a077e4",
        "colab": {
          "base_uri": "https://localhost:8080/"
        }
      },
      "source": [
        "print(prediction)"
      ],
      "execution_count": 13,
      "outputs": [
        {
          "output_type": "stream",
          "text": [
            "['female']\n"
          ],
          "name": "stdout"
        }
      ]
    }
  ]
}